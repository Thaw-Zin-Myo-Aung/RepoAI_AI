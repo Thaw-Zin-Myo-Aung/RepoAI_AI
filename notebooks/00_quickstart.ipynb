{
 "cells": [
  {"cell_type":"markdown","metadata":{},"source":["# RepoAI — Quickstart Notebook\\n","Use this to smoke-test imports and scratch ideas."]},
  {"cell_type":"code","metadata":{},"source":["import sys, platform\\nprint(platform.python_version(), sys.executable)"]},
  {"cell_type":"code","metadata":{},"source":["from repoai import __version__\\n__version__"]},
  {"cell_type":"code","metadata":{},"source":["# Try the CLI function from here (for reference)\\n!python -m repoai.cli hello --name Notebook"]}
 ],
 "metadata": {
  "kernelspec": {"display_name":"repoai-ai","language":"python","name":"repoai-ai"},
  "language_info": {"name":"python","version":"3.10"}
 },
 "nbformat":4,"nbformat_minor":5
}
