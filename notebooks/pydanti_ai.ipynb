{
 "cells": [
  {
   "cell_type": "markdown",
   "id": "aaba6e16",
   "metadata": {},
   "source": [
    "## Pydantic Ai Adapter in Action"
   ]
  },
  {
   "cell_type": "code",
   "execution_count": 47,
   "id": "eb58b2ef",
   "metadata": {},
   "outputs": [],
   "source": [
    "import os\n",
    "import sys\n",
    "\n",
    "sys.path.append(os.path.abspath(\"../src\"))"
   ]
  },
  {
   "cell_type": "code",
   "execution_count": 48,
   "id": "256ce561",
   "metadata": {},
   "outputs": [
    {
     "data": {
      "text/plain": [
       "True"
      ]
     },
     "execution_count": 48,
     "metadata": {},
     "output_type": "execute_result"
    }
   ],
   "source": [
    "from dotenv import load_dotenv\n",
    "load_dotenv('/home/timmy/RepoAI_AI/.env', override=True)"
   ]
  },
  {
   "cell_type": "code",
   "execution_count": 49,
   "id": "71665dea",
   "metadata": {},
   "outputs": [],
   "source": [
    "from repoai.llm.pydantic_ai_adapter import PydanticAIAdapter  # Note: AI is uppercase\n",
    "from repoai.llm.model_roles import ModelRole\n",
    "from pydantic import BaseModel\n",
    "from typing import List"
   ]
  },
  {
   "cell_type": "code",
   "execution_count": 46,
   "id": "533e384d",
   "metadata": {},
   "outputs": [
    {
     "name": "stdout",
     "output_type": "stream",
     "text": [
      "✓ Modules reloaded\n"
     ]
    }
   ],
   "source": [
    "# Reload the module to test the fix\n",
    "import sys\n",
    "for mod_name in list(sys.modules.keys()):\n",
    "    if mod_name.startswith('repoai.llm'):\n",
    "        del sys.modules[mod_name]\n",
    "\n",
    "from repoai.llm.pydantic_ai_adapter import PydanticAIAdapter\n",
    "from repoai.llm.model_roles import ModelRole\n",
    "\n",
    "print(\"✓ Modules reloaded\")"
   ]
  },
  {
   "cell_type": "code",
   "execution_count": 50,
   "id": "04b4bac8",
   "metadata": {},
   "outputs": [],
   "source": [
    "# Test Schema Definitions\n",
    "class CodeSuggestion(BaseModel):\n",
    "    language: str\n",
    "    code: str\n",
    "    explanation: str\n",
    "\n",
    "class TaskList(BaseModel):\n",
    "    tasks: List[str]\n",
    "    priority: str"
   ]
  },
  {
   "cell_type": "code",
   "execution_count": 51,
   "id": "7d89032f",
   "metadata": {},
   "outputs": [
    {
     "name": "stdout",
     "output_type": "stream",
     "text": [
      "✓ PydanticAIAdapter initialized\n"
     ]
    }
   ],
   "source": [
    "adapter = PydanticAIAdapter()\n",
    "print(\"✓ PydanticAIAdapter initialized\")"
   ]
  },
  {
   "cell_type": "markdown",
   "id": "3d7f7d2e",
   "metadata": {},
   "source": [
    "### Unstructured Raw Completion"
   ]
  },
  {
   "cell_type": "code",
   "execution_count": 52,
   "id": "59efb04d",
   "metadata": {},
   "outputs": [
    {
     "name": "stdout",
     "output_type": "stream",
     "text": [
      "Raw output:\n",
      "Hello, I'm a helpful AI Assistant here to provide you with information and assistance.\n"
     ]
    }
   ],
   "source": [
    "# Test Raw Completion\n",
    "messages = [\n",
    "    {\"role\": \"user\", \"content\": \"You are a helpful AI Assistant.\"},\n",
    "    {\"role\": \"user\", \"content\": \"Say Hello and introduce yourself in one sentence.\"}\n",
    "]\n",
    "\n",
    "output = await adapter.run_raw_async(ModelRole.INTAKE, messages, max_output_tokens=100)\n",
    "print(\"Raw output:\")\n",
    "print(output)"
   ]
  },
  {
   "cell_type": "markdown",
   "id": "47921a61",
   "metadata": {},
   "source": [
    "### Structured JSON Completion"
   ]
  },
  {
   "cell_type": "code",
   "execution_count": 53,
   "id": "2c278279",
   "metadata": {},
   "outputs": [
    {
     "name": "stdout",
     "output_type": "stream",
     "text": [
      "\n",
      "Result type: <class '__main__.CodeSuggestion'>\n",
      "Result: language='python' code='def factorial(n):\\n    if n < 0:\\n        raise ValueError(\"Factorial is not defined for negative numbers\")\\n    if n == 0 or n == 1:\\n        return 1\\n    result = 1\\n    for i in range(2, n + 1):\\n        result *= i\\n    return result' explanation='This function calculates the factorial of a non-negative integer. It first checks if the input is negative and raises an error if so. For base cases (0 and 1), it returns 1. For other values, it uses a loop to multiply all integers from 2 to n together.'\n",
      "\n",
      "Is CodeSuggestion? True\n",
      "\n",
      "Language: python\n",
      "Code:\n",
      "def factorial(n):\n",
      "    if n < 0:\n",
      "        raise ValueError(\"Factorial is not defined for negative numbers\")\n",
      "    if n == 0 or n == 1:\n",
      "        return 1\n",
      "    result = 1\n",
      "    for i in range(2, n + 1):\n",
      "        result *= i\n",
      "    return result\n",
      "\n",
      "Explanation: This function calculates the factorial of a non-negative integer. It first checks if the input is negative and raises an error if so. For base cases (0 and 1), it returns 1. For other values, it uses a loop to multiply all integers from 2 to n together.\n"
     ]
    }
   ],
   "source": [
    "# Test Structured JSON Completion\n",
    "result = await adapter.run_json_async(\n",
    "    role=ModelRole.CODER,\n",
    "    schema=CodeSuggestion,\n",
    "    messages=[{\"content\": \"Write a function to calculate factorial\"}]\n",
    ")\n",
    "\n",
    "print(f\"\\nResult type: {type(result)}\")\n",
    "print(f\"Result: {result}\")\n",
    "print(f\"\\nIs CodeSuggestion? {isinstance(result, CodeSuggestion)}\")\n",
    "print(f\"\\nLanguage: {result.language}\")\n",
    "print(f\"Code:\\n{result.code}\")\n",
    "print(f\"\\nExplanation: {result.explanation}\")"
   ]
  },
  {
   "cell_type": "markdown",
   "id": "cdcfff71",
   "metadata": {},
   "source": [
    "### Raw Streaming"
   ]
  },
  {
   "cell_type": "code",
   "execution_count": 54,
   "id": "7e83a47b",
   "metadata": {},
   "outputs": [
    {
     "name": "stdout",
     "output_type": "stream",
     "text": [
      "Streaming raw output:\n",
      "TheThe logic's loom logic's loom begins to weave begins to weave,\n",
      "A silent thought,\n",
      "A silent thought, a bright belief, a bright belief.\n",
      "A syntax seed.\n",
      "A syntax seed, a, a planted line planted line,\n",
      "To build a,\n",
      "To build a world by strict world by strict design.\n",
      "\n",
      "The brackets design.\n",
      "\n",
      "The brackets curl, curl, a cage of might a cage of might,\n",
      "The semicol,\n",
      "The semicolon, endon, end of night.\n",
      "A of night.\n",
      "A function blooms function blooms, a called, a called-by-name,\n",
      "-by-name,\n",
      "To play its partTo play its part in in logic's game logic's game.\n",
      "\n",
      "A.\n",
      "\n",
      "A bug takes root bug takes root, a ghost, a ghostly flawly flaw,\n",
      "Defying every,\n",
      "Defying every mental law.\n",
      "Then mental law.\n",
      "Then debug's debug's hunt, a hunt, a patient art,\n",
      "To patient art,\n",
      "To find the break find the break and pull and pull apart.\n",
      "\n",
      "And apart.\n",
      "\n",
      "And when it when it runs, a quiet runs, a quiet thrill,\n",
      "The thrill,\n",
      "The compiler's heart begins to spill.\n",
      "A world of light, from thought now compiler's heart begins to spill.\n",
      "A world of light, from thought now sprung,\n",
      "A new reality sprung,\n",
      "A new reality, from key, from key and tongue and tongue.\n",
      "\n",
      "Streaming complete.\n",
      ".\n",
      "\n",
      "Streaming complete.\n"
     ]
    }
   ],
   "source": [
    "# Test raw Streaming\n",
    "messages = [\n",
    "    {\"role\": \"system\", \"content\": \"You are a creative writer.\"},\n",
    "    {\"role\": \"user\", \"content\": \"Write a short poem about coding.\"}\n",
    "]\n",
    "\n",
    "print(\"Streaming raw output:\")\n",
    "async for chunk in adapter.stream_raw_async(ModelRole.INTAKE, messages, max_output_tokens=100):\n",
    "    print(chunk, end='', flush=True)\n",
    "print(\"\\n\\nStreaming complete.\")"
   ]
  },
  {
   "cell_type": "markdown",
   "id": "a45ff05b",
   "metadata": {},
   "source": [
    "### Testing different roles"
   ]
  },
  {
   "cell_type": "code",
   "execution_count": 55,
   "id": "9f852b29",
   "metadata": {},
   "outputs": [
    {
     "name": "stdout",
     "output_type": "stream",
     "text": [
      "PLANNER role output:\n",
      "A **REST API** is like a **menu and waiter** for software applications. It allows different programs to communicate with each other over the internet in a standardized way.\n",
      "\n",
      "### Simple Analogy:\n",
      "Imagine a restaurant:\n",
      "- **You (the client)** want food (data/services)\n",
      "- The **menu (API documentation)** shows what you can order\n",
      "- The **waiter (REST API)** takes your order, brings it to the kitchen (server), and returns your food\n",
      "\n",
      "### Key Characteristics:\n",
      "1. **Stateless**: Each request contains all needed information (like ordering with a complete recipe)\n",
      "2. **Standard Methods** (HTTP verbs):\n",
      "   - `GET` - Retrieve data (like looking at a menu)\n",
      "   - `POST` - Create new data (placing an order)\n",
      "   - `PUT/PATCH` - Update data (modifying an order)\n",
      "   - `DELETE` - Remove data (canceling an order)\n",
      "\n",
      "3. **Resources**: Everything is a noun (not a verb)\n",
      "   - `/users` instead of `/getUsers`\n",
      "   - `/products` instead of `/createProduct`\n",
      "\n",
      "### Real-World Example:\n",
      "When you check weather on your phone:\n",
      "1. Your app sends a `GET` request to `api.weather.com/forecast`\n",
      "2. The weather service returns data in a standard format (usually JSON)\n",
      "3. Your app displays it in a readable format\n",
      "\n",
      "### Why It's Popular:\n",
      "- **Language Independent** (any programming language can use it)\n",
      "- **Scalable** (can handle millions of users)\n",
      "- **Simple** (uses familiar HTTP protocol)\n",
      "\n",
      "Think of it as a universal remote control that lets different software components talk to each other across the web!\n"
     ]
    }
   ],
   "source": [
    "# PLANNER\n",
    "messages = [\n",
    "    {\"role\": \"system\", \"content\": \"You are RepoAI, an AI code assistant.\"},\n",
    "    {\"role\": \"user\", \"content\": \"Explain what a REST API is in simple terms.\"}\n",
    "]\n",
    "\n",
    "planner_output = await adapter.run_raw_async(ModelRole.PLANNER, messages, max_output_tokens=150)\n",
    "print(\"PLANNER role output:\")\n",
    "print(planner_output)"
   ]
  },
  {
   "cell_type": "code",
   "execution_count": 67,
   "id": "eff89192",
   "metadata": {},
   "outputs": [],
   "source": [
    "from IPython.display import display, Markdown"
   ]
  },
  {
   "cell_type": "code",
   "execution_count": 68,
   "id": "ab0d6a2e",
   "metadata": {},
   "outputs": [
    {
     "data": {
      "text/markdown": [
       "### PLANNER Role Output:\n",
       "\n",
       "A **REST API** is like a **menu and waiter** for software applications. It allows different programs to communicate with each other over the internet in a standardized way.\n",
       "\n",
       "### Simple Analogy:\n",
       "Imagine a restaurant:\n",
       "- **You (the client)** want food (data/services)\n",
       "- The **menu (API documentation)** shows what you can order\n",
       "- The **waiter (REST API)** takes your order, brings it to the kitchen (server), and returns your food\n",
       "\n",
       "### Key Characteristics:\n",
       "1. **Stateless**: Each request contains all needed information (like ordering with a complete recipe)\n",
       "2. **Standard Methods** (HTTP verbs):\n",
       "   - `GET` - Retrieve data (like looking at a menu)\n",
       "   - `POST` - Create new data (placing an order)\n",
       "   - `PUT/PATCH` - Update data (modifying an order)\n",
       "   - `DELETE` - Remove data (canceling an order)\n",
       "\n",
       "3. **Resources**: Everything is a noun (not a verb)\n",
       "   - `/users` instead of `/getUsers`\n",
       "   - `/products` instead of `/createProduct`\n",
       "\n",
       "### Real-World Example:\n",
       "When you check weather on your phone:\n",
       "1. Your app sends a `GET` request to `api.weather.com/forecast`\n",
       "2. The weather service returns data in a standard format (usually JSON)\n",
       "3. Your app displays it in a readable format\n",
       "\n",
       "### Why It's Popular:\n",
       "- **Language Independent** (any programming language can use it)\n",
       "- **Scalable** (can handle millions of users)\n",
       "- **Simple** (uses familiar HTTP protocol)\n",
       "\n",
       "Think of it as a universal remote control that lets different software components talk to each other across the web!"
      ],
      "text/plain": [
       "<IPython.core.display.Markdown object>"
      ]
     },
     "metadata": {},
     "output_type": "display_data"
    }
   ],
   "source": [
    "display(Markdown(f\"### PLANNER Role Output:\\n\\n{planner_output}\"))"
   ]
  },
  {
   "cell_type": "markdown",
   "id": "820900c3",
   "metadata": {},
   "source": [
    "### Test Error Handling with Invalid Schema"
   ]
  },
  {
   "cell_type": "code",
   "execution_count": 80,
   "id": "c697aaae",
   "metadata": {},
   "outputs": [
    {
     "name": "stdout",
     "output_type": "stream",
     "text": [
      "Result: number=0\n"
     ]
    }
   ],
   "source": [
    "class InvalidSchema(BaseModel):\n",
    "    number: int\n",
    "\n",
    "messages = [\n",
    "    {\"role\": \"user\", \"content\": \"Say Hello World\"}\n",
    "]\n",
    "\n",
    "try:\n",
    "    result = await adapter.run_json_async(\n",
    "        ModelRole.INTAKE,\n",
    "        InvalidSchema,\n",
    "        messages,\n",
    "        max_output_tokens=50\n",
    "    )\n",
    "    print(f\"Result: {result}\")\n",
    "\n",
    "except Exception as e:\n",
    "    print(f\"Expected error occured (Failed Validation): {type(e).__name__}\")\n",
    "    print(f\"Error Message: {str(e)}\")"
   ]
  },
  {
   "cell_type": "markdown",
   "id": "bcee3ea8",
   "metadata": {},
   "source": [
    "### Performance: Multiple Calls"
   ]
  },
  {
   "cell_type": "code",
   "execution_count": null,
   "id": "aa371ec3",
   "metadata": {},
   "outputs": [],
   "source": [
    "import time\n",
    "\n",
    "# Test different roles with different tasks\n",
    "test_cases = [\n",
    "    (ModelRole.INTAKE, {\"role\": \"user\", \"content\": \"What is Python?\"}),\n",
    "    (ModelRole.CODER, {\"role\": \"user\", \"content\": \"Write a hello function\"}),\n",
    "    (ModelRole.PLANNER, {\"role\": \"user\", \"content\": \"Plan a simple web app\"}),\n",
    "]\n",
    "\n",
    "print(\"Testing different model roles:\\n\")\n",
    "start = time.time()\n",
    "\n",
    "for i, (role, message) in enumerate(test_cases, 1):\n",
    "    output = await adapter.run_raw_async(role, [message], max_output_tokens=50)\n",
    "    print(f\"Call {i} ({role.name}): {output[:60]}...\")\n",
    "    print()\n",
    "\n",
    "elapsed = time.time() - start\n",
    "print(f\"✓ Completed {len(test_cases)} calls across different roles in {elapsed:.2f} seconds\")\n",
    "print(f\"  Average: {elapsed/len(test_cases):.2f}s per call\")"
   ]
  }
 ],
 "metadata": {
  "kernelspec": {
   "display_name": "RepoAI_AI (3.12.3)",
   "language": "python",
   "name": "python3"
  },
  "language_info": {
   "codemirror_mode": {
    "name": "ipython",
    "version": 3
   },
   "file_extension": ".py",
   "mimetype": "text/x-python",
   "name": "python",
   "nbconvert_exporter": "python",
   "pygments_lexer": "ipython3",
   "version": "3.12.3"
  }
 },
 "nbformat": 4,
 "nbformat_minor": 5
}
