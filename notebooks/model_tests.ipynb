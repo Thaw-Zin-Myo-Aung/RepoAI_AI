{
 "cells": [
  {
   "cell_type": "markdown",
   "id": "44b46ce2",
   "metadata": {},
   "source": [
    "## Model Tests if Working or not"
   ]
  },
  {
   "cell_type": "code",
   "execution_count": 41,
   "id": "9ea98a3a",
   "metadata": {},
   "outputs": [],
   "source": [
    "import os\n",
    "import sys\n",
    "\n",
    "sys.path.append(os.path.abspath(\"../src\"))"
   ]
  },
  {
   "cell_type": "code",
   "execution_count": 65,
   "id": "c17cd0e9",
   "metadata": {},
   "outputs": [
    {
     "name": "stdout",
     "output_type": "stream",
     "text": [
      "The autoreload extension is already loaded. To reload it, use:\n",
      "  %reload_ext autoreload\n",
      "Bootstrap complete: .env loaded, settings module reloaded, cache refreshed.\n"
     ]
    }
   ],
   "source": [
    "# Notebook bootstrap: autoreload + env refresh\n",
    "%load_ext autoreload\n",
    "%autoreload 2\n",
    "\n",
    "import importlib\n",
    "import sys\n",
    "\n",
    "from dotenv import load_dotenv\n",
    "\n",
    "# Ensure .env is loaded first\n",
    "load_dotenv(\"/home/timmy/RepoAI_AI/.env\", override=True)\n",
    "\n",
    "# Reload settings module to pick up any .env changes, then refresh cache\n",
    "import repoai.config.settings as cfg\n",
    "\n",
    "importlib.reload(cfg)\n",
    "cfg.refresh_settings()\n",
    "print(\"Bootstrap complete: .env loaded, settings module reloaded, cache refreshed.\")"
   ]
  },
  {
   "cell_type": "code",
   "execution_count": 66,
   "id": "0937ae3e",
   "metadata": {},
   "outputs": [],
   "source": [
    "from repoai.agent.gemini_agent import make_gemini_agent"
   ]
  },
  {
   "cell_type": "code",
   "execution_count": 67,
   "id": "94107a53",
   "metadata": {},
   "outputs": [
    {
     "name": "stdout",
     "output_type": "stream",
     "text": [
      "Hello! Yes, I can respond to you. How can I help you today?\n"
     ]
    }
   ],
   "source": [
    "agent = make_gemini_agent()\n",
    "response = await agent.run(\"Hello, Gemini! Can you respond to me?\")\n",
    "print(response.output)"
   ]
  },
  {
   "cell_type": "code",
   "execution_count": 62,
   "id": "26774faf",
   "metadata": {},
   "outputs": [
    {
     "name": "stdout",
     "output_type": "stream",
     "text": [
      "✓ Successfully imported make_aimlapi_agent\n",
      "AIMLAPI_API_KEY: set ✓\n"
     ]
    }
   ],
   "source": [
    "# Clear cache, load .env, then import\n",
    "import os\n",
    "import sys\n",
    "\n",
    "from dotenv import load_dotenv\n",
    "\n",
    "# Remove all related modules from cache\n",
    "modules_to_remove = [\n",
    "    \"repoai.config.settings\",\n",
    "    \"repoai.agent.aimlapi_agent\",\n",
    "    \"repoai.config\",\n",
    "]\n",
    "\n",
    "for module in modules_to_remove:\n",
    "    if module in sys.modules:\n",
    "        del sys.modules[module]\n",
    "\n",
    "# Force reload .env\n",
    "load_dotenv(\"/home/timmy/RepoAI_AI/.env\", override=True)\n",
    "\n",
    "# Now import with fresh settings\n",
    "from repoai.agent.aimlapi_agent import make_aimlapi_agent\n",
    "from repoai.config.settings import settings\n",
    "\n",
    "print(\"✓ Successfully imported make_aimlapi_agent\")\n",
    "print(f\"AIMLAPI_API_KEY: {'set ✓' if settings.AIMLAPI_API_KEY else 'NOT SET ✗'}\")"
   ]
  },
  {
   "cell_type": "code",
   "execution_count": 60,
   "id": "e5a9bc19",
   "metadata": {},
   "outputs": [
    {
     "name": "stdout",
     "output_type": "stream",
     "text": [
      "Environment variables:\n",
      "GOOGLE_API_KEY: AIzaSyAXCnEp_A2h62PR...\n",
      "AIMLAPI_API_KEY: cb2dae9feb7247f4aaa59db19eeba40f\n",
      "\n",
      "Fresh Settings object:\n",
      "GOOGLE_API_KEY: set ✓\n",
      "AIMLAPI_API_KEY: set ✓\n"
     ]
    }
   ],
   "source": [
    "# Debug: Load settings fresh and check environment\n",
    "import os\n",
    "\n",
    "from dotenv import load_dotenv\n",
    "\n",
    "# Force reload .env\n",
    "load_dotenv(\"/home/timmy/RepoAI_AI/.env\", override=True)\n",
    "\n",
    "print(\"Environment variables:\")\n",
    "print(f\"GOOGLE_API_KEY: {os.getenv('GOOGLE_API_KEY', 'NOT SET')[:20]}...\")\n",
    "print(f\"AIMLAPI_API_KEY: {os.getenv('AIMLAPI_API_KEY', 'NOT SET')}\")\n",
    "\n",
    "# Now reload settings\n",
    "import sys\n",
    "\n",
    "if \"repoai.config.settings\" in sys.modules:\n",
    "    del sys.modules[\"repoai.config.settings\"]\n",
    "\n",
    "from repoai.config.settings import Settings\n",
    "\n",
    "fresh_settings = Settings()\n",
    "print(\"\\nFresh Settings object:\")\n",
    "print(f\"GOOGLE_API_KEY: {'set ✓' if fresh_settings.GOOGLE_API_KEY else 'NOT SET ✗'}\")\n",
    "print(f\"AIMLAPI_API_KEY: {'set ✓' if fresh_settings.AIMLAPI_API_KEY else 'NOT SET ✗'}\")"
   ]
  },
  {
   "cell_type": "code",
   "execution_count": 68,
   "id": "ec82cdc7",
   "metadata": {},
   "outputs": [
    {
     "name": "stdout",
     "output_type": "stream",
     "text": [
      "Hello! Yes, I'm here and ready to respond. How can I assist you today?\n"
     ]
    }
   ],
   "source": [
    "aiml_agent = make_aimlapi_agent()\n",
    "aiml_repsonse = await aiml_agent.run(\"Hello, AIMLAPI! Can you respond to me?\")\n",
    "print(aiml_repsonse.output)"
   ]
  },
  {
   "cell_type": "code",
   "execution_count": null,
   "id": "5b214bb9",
   "metadata": {},
   "outputs": [],
   "source": []
  }
 ],
 "metadata": {
  "kernelspec": {
   "display_name": "RepoAI_AI (3.12.3)",
   "language": "python",
   "name": "python3"
  },
  "language_info": {
   "codemirror_mode": {
    "name": "ipython",
    "version": 3
   },
   "file_extension": ".py",
   "mimetype": "text/x-python",
   "name": "python",
   "nbconvert_exporter": "python",
   "pygments_lexer": "ipython3",
   "version": "3.12.3"
  }
 },
 "nbformat": 4,
 "nbformat_minor": 5
}
