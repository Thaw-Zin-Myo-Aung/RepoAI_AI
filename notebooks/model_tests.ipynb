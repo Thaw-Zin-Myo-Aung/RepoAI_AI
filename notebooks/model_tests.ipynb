{
 "cells": [
  {
   "cell_type": "markdown",
   "id": "44b46ce2",
   "metadata": {},
   "source": [
    "## Model Tests if Working or not"
   ]
  },
  {
   "cell_type": "code",
   "execution_count": 3,
   "id": "9ea98a3a",
   "metadata": {},
   "outputs": [],
   "source": [
    "import os\n",
    "import sys\n",
    "\n",
    "sys.path.append(os.path.abspath(\"../src\"))"
   ]
  },
  {
   "cell_type": "code",
   "execution_count": 66,
   "id": "0937ae3e",
   "metadata": {},
   "outputs": [],
   "source": [
    "from repoai.agent.gemini_agent import make_gemini_agent"
   ]
  },
  {
   "cell_type": "code",
   "execution_count": 67,
   "id": "94107a53",
   "metadata": {},
   "outputs": [
    {
     "name": "stdout",
     "output_type": "stream",
     "text": [
      "Hello! Yes, I can respond to you. How can I help you today?\n"
     ]
    }
   ],
   "source": [
    "agent = make_gemini_agent()\n",
    "response = await agent.run(\"Hello, Gemini! Can you respond to me?\")\n",
    "print(response.output)"
   ]
  },
  {
   "cell_type": "code",
   "execution_count": 68,
   "id": "ec82cdc7",
   "metadata": {},
   "outputs": [
    {
     "name": "stdout",
     "output_type": "stream",
     "text": [
      "Hello! Yes, I'm here and ready to respond. How can I assist you today?\n"
     ]
    }
   ],
   "source": [
    "aiml_agent = make_aimlapi_agent()\n",
    "aiml_repsonse = await aiml_agent.run(\"Hello, AIMLAPI! Can you respond to me?\")\n",
    "print(aiml_repsonse.output)"
   ]
  },
  {
   "cell_type": "markdown",
   "id": "d0030dd5",
   "metadata": {},
   "source": [
    "### Testing if the defaults work or not"
   ]
  },
  {
   "cell_type": "code",
   "execution_count": 3,
   "id": "1004d024",
   "metadata": {},
   "outputs": [],
   "source": [
    "from repoai.llm import load_defaults_from_env, ModelRole"
   ]
  },
  {
   "cell_type": "code",
   "execution_count": 4,
   "id": "ec5e9fbf",
   "metadata": {},
   "outputs": [
    {
     "name": "stdout",
     "output_type": "stream",
     "text": [
      "ModelRole.INTAKE: ['deepseek/deepseek-chat-v3.1', 'alibaba/qwen-max', 'claude-sonnet-4-5-20250929']\n",
      "ModelRole.PLANNER: ['deepseek/deepseek-reasoner-v3.1', 'alibaba/qwen3-next-80b-a3b-thinking', 'claude-opus-4-20250514']\n",
      "ModelRole.PR_NARRATOR: ['deepseek/deepseek-chat-v3.1', 'claude-haiku-4-5-20251001', 'alibaba/qwen3-235b-a22b-thinking-2507']\n",
      "ModelRole.CODER: ['alibaba/qwen3-coder-480b-a35b-instruct', 'Qwen/Qwen2.5-Coder-32B-Instruct', 'deepseek/deepseek-chat-v3.1', 'claude-opus-4-1-20250805']\n",
      "ModelRole.EMBEDDING: ['bge-small']\n"
     ]
    }
   ],
   "source": [
    "# Load default model specs from environment variables\n",
    "table = load_defaults_from_env()\n",
    "\n",
    "for role, specs in table.items():\n",
    "    print(f\"{role}: {[s.model_id for s in specs]}\")"
   ]
  },
  {
   "cell_type": "markdown",
   "id": "f4c28cac",
   "metadata": {},
   "source": [
    "### AIML Client Wrapper"
   ]
  },
  {
   "cell_type": "code",
   "execution_count": 12,
   "id": "1ac1b7d6",
   "metadata": {},
   "outputs": [],
   "source": [
    "import os\n",
    "import sys, json\n",
    "\n",
    "sys.path.append(os.path.abspath(\"../src\"))"
   ]
  },
  {
   "cell_type": "code",
   "execution_count": 24,
   "id": "2e27c727",
   "metadata": {},
   "outputs": [
    {
     "name": "stdout",
     "output_type": "stream",
     "text": [
      "✓ AIMLClient reloaded with AIMLAPI_API_KEY fix\n"
     ]
    }
   ],
   "source": [
    "# Reload to pick up AIMLAPI_API_KEY fix\n",
    "import importlib\n",
    "import sys\n",
    "\n",
    "# Clear cached modules\n",
    "for mod_name in list(sys.modules.keys()):\n",
    "    if 'aiml_client' in mod_name or mod_name.startswith('repoai.llm.clients'):\n",
    "        del sys.modules[mod_name]\n",
    "\n",
    "from dotenv import load_dotenv\n",
    "load_dotenv('/home/timmy/RepoAI_AI/.env', override=True)\n",
    "\n",
    "from repoai.llm.clients.aiml_client import AIMLClient\n",
    "print(\"✓ AIMLClient reloaded with AIMLAPI_API_KEY fix\")"
   ]
  },
  {
   "cell_type": "code",
   "execution_count": 25,
   "id": "8032d08d",
   "metadata": {},
   "outputs": [
    {
     "name": "stdout",
     "output_type": "stream",
     "text": [
      "{\n",
      "  \"id\": \"14b97720-3a9f-4131-ac92-ccd41f26dac6\",\n",
      "  \"system_fingerprint\": \"fp_ffc7281d48_prod0820_fp8_kvcache\",\n",
      "  \"object\": \"chat.completion\",\n",
      "  \"choices\": [\n",
      "    {\n",
      "      \"index\": 0,\n",
      "      \"finish_reason\": \"stop\",\n",
      "      \"logprobs\": null,\n",
      "      \"message\": {\n",
      "        \"role\": \"assistant\",\n",
      "        \"content\": \"Hello from AIML! How can I assist you with your code today?\",\n",
      "        \"reasoning_content\": \"\"\n",
      "      }\n",
      "    }\n",
      "  ],\n",
      "  \"created\": 1761147813,\n",
      "  \"model\": \"deepseek-chat\",\n",
      "  \"usage\": {\n",
      "    \"prompt_tokens\": 25,\n",
      "    \"completion_tokens\": 53,\n",
      "    \"total_tokens\": 78,\n",
      "    \"prompt_tokens_details\": {\n",
      "      \"cached_tokens\": 0\n",
      "    },\n",
      "    \"prompt_cache_hit_tokens\": 0,\n",
      "    \"prompt_cache_miss_tokens\": 21\n",
      "  }\n",
      "}\n"
     ]
    }
   ],
   "source": [
    "client = AIMLClient()\n",
    "\n",
    "message = [\n",
    "    {\"role\": \"system\", \"content\": \"You are RepoAI, an AI code assistant.\"},\n",
    "    {\"role\": \"user\", \"content\": \"Say hello from AIML.\"}\n",
    "]\n",
    "\n",
    "response = client.chat(\"deepseek/deepseek-chat-v3.1\", message)\n",
    "print(json.dumps(response, indent=2))"
   ]
  },
  {
   "cell_type": "code",
   "execution_count": 17,
   "id": "27581efd",
   "metadata": {},
   "outputs": [
    {
     "data": {
      "text/plain": [
       "'Hello from AIML! How can I assist you with your code today?'"
      ]
     },
     "execution_count": 17,
     "metadata": {},
     "output_type": "execute_result"
    }
   ],
   "source": [
    "response[\"choices\"][0][\"message\"][\"content\"]"
   ]
  },
  {
   "cell_type": "markdown",
   "id": "46acb7ac",
   "metadata": {},
   "source": [
    "### Making use of Model Router"
   ]
  },
  {
   "cell_type": "code",
   "execution_count": 37,
   "id": "82ee1ffc",
   "metadata": {},
   "outputs": [],
   "source": [
    "import sys, json\n",
    "import os\n",
    "sys.path.append(os.path.abspath(\"../src\"))"
   ]
  },
  {
   "cell_type": "code",
   "execution_count": 47,
   "id": "b2ca84e0",
   "metadata": {},
   "outputs": [
    {
     "name": "stdout",
     "output_type": "stream",
     "text": [
      "✓ ModelRouter created with max_tokens fix\n"
     ]
    }
   ],
   "source": [
    "# Reload all llm modules to pick up max_tokens fix\n",
    "import sys\n",
    "modules_to_clear = [m for m in list(sys.modules.keys()) if m.startswith('repoai.llm')]\n",
    "for m in modules_to_clear:\n",
    "    del sys.modules[m]\n",
    "\n",
    "from dotenv import load_dotenv\n",
    "load_dotenv('/home/timmy/RepoAI_AI/.env', override=True)\n",
    "\n",
    "from repoai.llm import ModelRouter, ModelRole\n",
    "\n",
    "# Create fresh router with updated code\n",
    "router = ModelRouter()\n",
    "print(\"✓ ModelRouter created with max_tokens fix\")"
   ]
  },
  {
   "cell_type": "code",
   "execution_count": 39,
   "id": "c4df9960",
   "metadata": {},
   "outputs": [],
   "source": [
    "router = ModelRouter()"
   ]
  },
  {
   "cell_type": "code",
   "execution_count": 48,
   "id": "254991c9",
   "metadata": {},
   "outputs": [
    {
     "name": "stdout",
     "output_type": "stream",
     "text": [
      "Chosen model for ModelRole.INTAKE: deepseek/deepseek-chat-v3.1\n",
      "Chosen model for ModelRole.PLANNER: deepseek/deepseek-reasoner-v3.1\n",
      "Chosen model for ModelRole.CODER: alibaba/qwen3-coder-480b-a35b-instruct\n"
     ]
    }
   ],
   "source": [
    "#inspect chosen model IDs (From Defaults)\n",
    "for role in [ModelRole.INTAKE, ModelRole.PLANNER, ModelRole.CODER]:\n",
    "    client = router.choose(role)\n",
    "    print(f\"Chosen model for {role}: {client.model_id}\")"
   ]
  },
  {
   "cell_type": "code",
   "execution_count": 52,
   "id": "4d61093d",
   "metadata": {},
   "outputs": [
    {
     "name": "stdout",
     "output_type": "stream",
     "text": [
      "Payload being sent: {'model': 'deepseek/deepseek-chat-v3.1', 'messages': [{'role': 'system', 'content': 'You are RepoAI, an AI code assistant.'}, {'role': 'user', 'content': 'Say hello from AIML.'}], 'temperature': 0.3, 'max_tokens': 50}\n",
      "{\n",
      "  \"id\": \"6ace4e7c-26c4-482f-9857-fb9135ab3966\",\n",
      "  \"system_fingerprint\": \"fp_ffc7281d48_prod0820_fp8_kvcache\",\n",
      "  \"object\": \"chat.completion\",\n",
      "  \"choices\": [\n",
      "    {\n",
      "      \"index\": 0,\n",
      "      \"finish_reason\": \"stop\",\n",
      "      \"logprobs\": null,\n",
      "      \"message\": {\n",
      "        \"role\": \"assistant\",\n",
      "        \"content\": \"Hello from AIML! How can I assist you with your code today?\",\n",
      "        \"reasoning_content\": \"\"\n",
      "      }\n",
      "    }\n",
      "  ],\n",
      "  \"created\": 1761150393,\n",
      "  \"model\": \"deepseek-chat\",\n",
      "  \"usage\": {\n",
      "    \"prompt_tokens\": 25,\n",
      "    \"completion_tokens\": 53,\n",
      "    \"total_tokens\": 78,\n",
      "    \"prompt_tokens_details\": {\n",
      "      \"cached_tokens\": 0\n",
      "    },\n",
      "    \"prompt_cache_hit_tokens\": 0,\n",
      "    \"prompt_cache_miss_tokens\": 21\n",
      "  }\n",
      "}\n",
      "{\n",
      "  \"id\": \"6ace4e7c-26c4-482f-9857-fb9135ab3966\",\n",
      "  \"system_fingerprint\": \"fp_ffc7281d48_prod0820_fp8_kvcache\",\n",
      "  \"object\": \"chat.completion\",\n",
      "  \"choices\": [\n",
      "    {\n",
      "      \"index\": 0,\n",
      "      \"finish_reason\": \"stop\",\n",
      "      \"logprobs\": null,\n",
      "      \"message\": {\n",
      "        \"role\": \"assistant\",\n",
      "        \"content\": \"Hello from AIML! How can I assist you with your code today?\",\n",
      "        \"reasoning_content\": \"\"\n",
      "      }\n",
      "    }\n",
      "  ],\n",
      "  \"created\": 1761150393,\n",
      "  \"model\": \"deepseek-chat\",\n",
      "  \"usage\": {\n",
      "    \"prompt_tokens\": 25,\n",
      "    \"completion_tokens\": 53,\n",
      "    \"total_tokens\": 78,\n",
      "    \"prompt_tokens_details\": {\n",
      "      \"cached_tokens\": 0\n",
      "    },\n",
      "    \"prompt_cache_hit_tokens\": 0,\n",
      "    \"prompt_cache_miss_tokens\": 21\n",
      "  }\n",
      "}\n"
     ]
    }
   ],
   "source": [
    "# Test router.chat_with_fallback() - explicitly set json_mode=False\n",
    "messages = [\n",
    "    {\"role\": \"system\", \"content\": \"You are RepoAI, an AI code assistant.\"},\n",
    "    {\"role\": \"user\", \"content\": \"Say hello from AIML.\"}\n",
    "]\n",
    "\n",
    "resp = router.chat_with_fallback(ModelRole.INTAKE, messages, max_output_tokens=50, json_mode=False)\n",
    "print(json.dumps(resp, indent=2))"
   ]
  },
  {
   "cell_type": "code",
   "execution_count": 53,
   "id": "bd74ee8d",
   "metadata": {},
   "outputs": [
    {
     "data": {
      "text/plain": [
       "'Hello from AIML! How can I assist you with your code today?'"
      ]
     },
     "execution_count": 53,
     "metadata": {},
     "output_type": "execute_result"
    }
   ],
   "source": [
    "response[\"choices\"][0][\"message\"][\"content\"]"
   ]
  },
  {
   "cell_type": "markdown",
   "id": "529b98b7",
   "metadata": {},
   "source": []
  }
 ],
 "metadata": {
  "kernelspec": {
   "display_name": "RepoAI_AI (3.12.3)",
   "language": "python",
   "name": "python3"
  },
  "language_info": {
   "codemirror_mode": {
    "name": "ipython",
    "version": 3
   },
   "file_extension": ".py",
   "mimetype": "text/x-python",
   "name": "python",
   "nbconvert_exporter": "python",
   "pygments_lexer": "ipython3",
   "version": "3.12.3"
  }
 },
 "nbformat": 4,
 "nbformat_minor": 5
}
