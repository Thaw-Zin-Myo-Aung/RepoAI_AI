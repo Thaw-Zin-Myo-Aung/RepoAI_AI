{
 "cells": [
  {
   "cell_type": "markdown",
   "id": "44b46ce2",
   "metadata": {},
   "source": [
    "## Model Tests if Working or not"
   ]
  },
  {
   "cell_type": "code",
   "execution_count": 3,
   "id": "9ea98a3a",
   "metadata": {},
   "outputs": [],
   "source": [
    "import os\n",
    "import sys\n",
    "\n",
    "sys.path.append(os.path.abspath(\"../src\"))"
   ]
  },
  {
   "cell_type": "code",
   "execution_count": 66,
   "id": "0937ae3e",
   "metadata": {},
   "outputs": [],
   "source": [
    "from repoai.agent.gemini_agent import make_gemini_agent"
   ]
  },
  {
   "cell_type": "code",
   "execution_count": 67,
   "id": "94107a53",
   "metadata": {},
   "outputs": [
    {
     "name": "stdout",
     "output_type": "stream",
     "text": [
      "Hello! Yes, I can respond to you. How can I help you today?\n"
     ]
    }
   ],
   "source": [
    "agent = make_gemini_agent()\n",
    "response = await agent.run(\"Hello, Gemini! Can you respond to me?\")\n",
    "print(response.output)"
   ]
  },
  {
   "cell_type": "code",
   "execution_count": 68,
   "id": "ec82cdc7",
   "metadata": {},
   "outputs": [
    {
     "name": "stdout",
     "output_type": "stream",
     "text": [
      "Hello! Yes, I'm here and ready to respond. How can I assist you today?\n"
     ]
    }
   ],
   "source": [
    "aiml_agent = make_aimlapi_agent()\n",
    "aiml_repsonse = await aiml_agent.run(\"Hello, AIMLAPI! Can you respond to me?\")\n",
    "print(aiml_repsonse.output)"
   ]
  },
  {
   "cell_type": "markdown",
   "id": "d0030dd5",
   "metadata": {},
   "source": [
    "### Testing if the defaults work or not"
   ]
  },
  {
   "cell_type": "code",
   "execution_count": 3,
   "id": "1004d024",
   "metadata": {},
   "outputs": [],
   "source": [
    "from repoai.llm import load_defaults_from_env, ModelRole"
   ]
  },
  {
   "cell_type": "code",
   "execution_count": 4,
   "id": "ec5e9fbf",
   "metadata": {},
   "outputs": [
    {
     "name": "stdout",
     "output_type": "stream",
     "text": [
      "ModelRole.INTAKE: ['deepseek/deepseek-chat-v3.1', 'alibaba/qwen-max', 'claude-sonnet-4-5-20250929']\n",
      "ModelRole.PLANNER: ['deepseek/deepseek-reasoner-v3.1', 'alibaba/qwen3-next-80b-a3b-thinking', 'claude-opus-4-20250514']\n",
      "ModelRole.PR_NARRATOR: ['deepseek/deepseek-chat-v3.1', 'claude-haiku-4-5-20251001', 'alibaba/qwen3-235b-a22b-thinking-2507']\n",
      "ModelRole.CODER: ['alibaba/qwen3-coder-480b-a35b-instruct', 'Qwen/Qwen2.5-Coder-32B-Instruct', 'deepseek/deepseek-chat-v3.1', 'claude-opus-4-1-20250805']\n",
      "ModelRole.EMBEDDING: ['bge-small']\n"
     ]
    }
   ],
   "source": [
    "# Load default model specs from environment variables\n",
    "table = load_defaults_from_env()\n",
    "\n",
    "for role, specs in table.items():\n",
    "    print(f\"{role}: {[s.model_id for s in specs]}\")"
   ]
  },
  {
   "cell_type": "markdown",
   "id": "f4c28cac",
   "metadata": {},
   "source": [
    "### AIML Client Wrapper"
   ]
  },
  {
   "cell_type": "code",
   "execution_count": 12,
   "id": "1ac1b7d6",
   "metadata": {},
   "outputs": [],
   "source": [
    "import os\n",
    "import sys, json\n",
    "\n",
    "sys.path.append(os.path.abspath(\"../src\"))"
   ]
  },
  {
   "cell_type": "code",
   "execution_count": 13,
   "id": "2e27c727",
   "metadata": {},
   "outputs": [],
   "source": [
    "from repoai.llm.clients.aiml_client import AIMLClient"
   ]
  },
  {
   "cell_type": "code",
   "execution_count": 14,
   "id": "8032d08d",
   "metadata": {},
   "outputs": [
    {
     "name": "stderr",
     "output_type": "stream",
     "text": [
      "AIML request error Server error '520 <none>' for url 'https://api.aimlapi.com/v1/chat/completions'\n",
      "For more information check: https://developer.mozilla.org/en-US/docs/Web/HTTP/Status/520, retrying in 1.0s...\n"
     ]
    },
    {
     "name": "stdout",
     "output_type": "stream",
     "text": [
      "{\n",
      "  \"id\": \"5f85767a-35b3-4131-9c99-e7ebe3dd6673\",\n",
      "  \"system_fingerprint\": \"fp_ffc7281d48_prod0820_fp8_kvcache\",\n",
      "  \"object\": \"chat.completion\",\n",
      "  \"choices\": [\n",
      "    {\n",
      "      \"index\": 0,\n",
      "      \"finish_reason\": \"stop\",\n",
      "      \"logprobs\": null,\n",
      "      \"message\": {\n",
      "        \"role\": \"assistant\",\n",
      "        \"content\": \"Hello from AIML! How can I assist you with your code today?\",\n",
      "        \"reasoning_content\": \"\"\n",
      "      }\n",
      "    }\n",
      "  ],\n",
      "  \"created\": 1761063176,\n",
      "  \"model\": \"deepseek-chat\",\n",
      "  \"usage\": {\n",
      "    \"prompt_tokens\": 25,\n",
      "    \"completion_tokens\": 53,\n",
      "    \"total_tokens\": 78,\n",
      "    \"prompt_tokens_details\": {\n",
      "      \"cached_tokens\": 0\n",
      "    },\n",
      "    \"prompt_cache_hit_tokens\": 0,\n",
      "    \"prompt_cache_miss_tokens\": 21\n",
      "  }\n",
      "}\n"
     ]
    }
   ],
   "source": [
    "client = AIMLClient()\n",
    "\n",
    "message = [\n",
    "    {\"role\": \"system\", \"content\": \"You are RepoAI, an AI code assistant.\"},\n",
    "    {\"role\": \"user\", \"content\": \"Say hello from AIML.\"}\n",
    "]\n",
    "\n",
    "response = client.chat(\"deepseek/deepseek-chat-v3.1\", message)\n",
    "print(json.dumps(response, indent=2))"
   ]
  },
  {
   "cell_type": "code",
   "execution_count": 15,
   "id": "27581efd",
   "metadata": {},
   "outputs": [
    {
     "data": {
      "text/plain": [
       "'Hello from AIML! How can I assist you with your code today?'"
      ]
     },
     "execution_count": 15,
     "metadata": {},
     "output_type": "execute_result"
    }
   ],
   "source": [
    "response[\"choices\"][0][\"message\"][\"content\"]"
   ]
  },
  {
   "cell_type": "code",
   "execution_count": null,
   "id": "529b98b7",
   "metadata": {},
   "outputs": [],
   "source": []
  }
 ],
 "metadata": {
  "kernelspec": {
   "display_name": "RepoAI_AI (3.12.3)",
   "language": "python",
   "name": "python3"
  },
  "language_info": {
   "codemirror_mode": {
    "name": "ipython",
    "version": 3
   },
   "file_extension": ".py",
   "mimetype": "text/x-python",
   "name": "python",
   "nbconvert_exporter": "python",
   "pygments_lexer": "ipython3",
   "version": "3.12.3"
  }
 },
 "nbformat": 4,
 "nbformat_minor": 5
}
