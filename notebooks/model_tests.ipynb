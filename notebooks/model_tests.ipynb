{
 "cells": [
  {
   "cell_type": "markdown",
   "id": "44b46ce2",
   "metadata": {},
   "source": [
    "## Model Tests if Working or not"
   ]
  },
  {
   "cell_type": "code",
   "execution_count": 41,
   "id": "9ea98a3a",
   "metadata": {},
   "outputs": [],
   "source": [
    "import os\n",
    "import sys\n",
    "\n",
    "sys.path.append(os.path.abspath(\"../src\"))"
   ]
  },
  {
   "cell_type": "code",
   "execution_count": 66,
   "id": "0937ae3e",
   "metadata": {},
   "outputs": [],
   "source": [
    "from repoai.agent.gemini_agent import make_gemini_agent"
   ]
  },
  {
   "cell_type": "code",
   "execution_count": 67,
   "id": "94107a53",
   "metadata": {},
   "outputs": [
    {
     "name": "stdout",
     "output_type": "stream",
     "text": [
      "Hello! Yes, I can respond to you. How can I help you today?\n"
     ]
    }
   ],
   "source": [
    "agent = make_gemini_agent()\n",
    "response = await agent.run(\"Hello, Gemini! Can you respond to me?\")\n",
    "print(response.output)"
   ]
  },
  {
   "cell_type": "code",
   "execution_count": 68,
   "id": "ec82cdc7",
   "metadata": {},
   "outputs": [
    {
     "name": "stdout",
     "output_type": "stream",
     "text": [
      "Hello! Yes, I'm here and ready to respond. How can I assist you today?\n"
     ]
    }
   ],
   "source": [
    "aiml_agent = make_aimlapi_agent()\n",
    "aiml_repsonse = await aiml_agent.run(\"Hello, AIMLAPI! Can you respond to me?\")\n",
    "print(aiml_repsonse.output)"
   ]
  }
 ],
 "metadata": {
  "kernelspec": {
   "display_name": "RepoAI_AI (3.12.3)",
   "language": "python",
   "name": "python3"
  },
  "language_info": {
   "codemirror_mode": {
    "name": "ipython",
    "version": 3
   },
   "file_extension": ".py",
   "mimetype": "text/x-python",
   "name": "python",
   "nbconvert_exporter": "python",
   "pygments_lexer": "ipython3",
   "version": "3.12.3"
  }
 },
 "nbformat": 4,
 "nbformat_minor": 5
}
