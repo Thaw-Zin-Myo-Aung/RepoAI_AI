{
 "cells": [
  {
   "cell_type": "markdown",
   "id": "44b46ce2",
   "metadata": {},
   "source": [
    "## Model Tests if Working or not"
   ]
  },
  {
   "cell_type": "code",
   "execution_count": 2,
   "id": "9ea98a3a",
   "metadata": {},
   "outputs": [],
   "source": [
    "import os\n",
    "import sys\n",
    "\n",
    "sys.path.append(os.path.abspath(\"../src\"))"
   ]
  },
  {
   "cell_type": "code",
   "execution_count": 66,
   "id": "0937ae3e",
   "metadata": {},
   "outputs": [],
   "source": [
    "from repoai.agent.gemini_agent import make_gemini_agent"
   ]
  },
  {
   "cell_type": "code",
   "execution_count": 67,
   "id": "94107a53",
   "metadata": {},
   "outputs": [
    {
     "name": "stdout",
     "output_type": "stream",
     "text": [
      "Hello! Yes, I can respond to you. How can I help you today?\n"
     ]
    }
   ],
   "source": [
    "agent = make_gemini_agent()\n",
    "response = await agent.run(\"Hello, Gemini! Can you respond to me?\")\n",
    "print(response.output)"
   ]
  },
  {
   "cell_type": "code",
   "execution_count": 68,
   "id": "ec82cdc7",
   "metadata": {},
   "outputs": [
    {
     "name": "stdout",
     "output_type": "stream",
     "text": [
      "Hello! Yes, I'm here and ready to respond. How can I assist you today?\n"
     ]
    }
   ],
   "source": [
    "aiml_agent = make_aimlapi_agent()\n",
    "aiml_repsonse = await aiml_agent.run(\"Hello, AIMLAPI! Can you respond to me?\")\n",
    "print(aiml_repsonse.output)"
   ]
  },
  {
   "cell_type": "markdown",
   "id": "d0030dd5",
   "metadata": {},
   "source": [
    "### Testing if the defaults work or not"
   ]
  },
  {
   "cell_type": "code",
   "execution_count": 3,
   "id": "1004d024",
   "metadata": {},
   "outputs": [],
   "source": [
    "from repoai.llm import load_defaults_from_env, ModelRole"
   ]
  },
  {
   "cell_type": "code",
   "execution_count": 4,
   "id": "ec5e9fbf",
   "metadata": {},
   "outputs": [
    {
     "name": "stdout",
     "output_type": "stream",
     "text": [
      "ModelRole.INTAKE: ['deepseek/deepseek-chat-v3.1', 'alibaba/qwen-max', 'claude-sonnet-4-5-20250929']\n",
      "ModelRole.PLANNER: ['deepseek/deepseek-reasoner-v3.1', 'alibaba/qwen3-next-80b-a3b-thinking', 'claude-opus-4-20250514']\n",
      "ModelRole.PR_NARRATOR: ['deepseek/deepseek-chat-v3.1', 'claude-haiku-4-5-20251001', 'alibaba/qwen3-235b-a22b-thinking-2507']\n",
      "ModelRole.CODER: ['alibaba/qwen3-coder-480b-a35b-instruct', 'Qwen/Qwen2.5-Coder-32B-Instruct', 'deepseek/deepseek-chat-v3.1', 'claude-opus-4-1-20250805']\n",
      "ModelRole.EMBEDDING: ['bge-small']\n"
     ]
    }
   ],
   "source": [
    "# Load default model specs from environment variables\n",
    "table = load_defaults_from_env()\n",
    "\n",
    "for role, specs in table.items():\n",
    "    print(f\"{role}: {[s.model_id for s in specs]}\")"
   ]
  },
  {
   "cell_type": "code",
   "execution_count": null,
   "id": "2e27c727",
   "metadata": {},
   "outputs": [],
   "source": []
  }
 ],
 "metadata": {
  "kernelspec": {
   "display_name": "RepoAI_AI (3.12.3)",
   "language": "python",
   "name": "python3"
  },
  "language_info": {
   "codemirror_mode": {
    "name": "ipython",
    "version": 3
   },
   "file_extension": ".py",
   "mimetype": "text/x-python",
   "name": "python",
   "nbconvert_exporter": "python",
   "pygments_lexer": "ipython3",
   "version": "3.12.3"
  }
 },
 "nbformat": 4,
 "nbformat_minor": 5
}
