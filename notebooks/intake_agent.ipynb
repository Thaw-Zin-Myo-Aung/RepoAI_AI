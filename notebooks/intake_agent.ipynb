{
 "cells": [
  {
   "cell_type": "markdown",
   "id": "4a9f6c4d",
   "metadata": {},
   "source": [
    "# Intake Agent related experiments"
   ]
  },
  {
   "cell_type": "markdown",
   "id": "379d15f7",
   "metadata": {},
   "source": [
    "### Intake prompt"
   ]
  },
  {
   "cell_type": "code",
   "execution_count": 1,
   "id": "80279402",
   "metadata": {},
   "outputs": [
    {
     "name": "stdout",
     "output_type": "stream",
     "text": [
      "✓ Modules reloaded\n"
     ]
    }
   ],
   "source": [
    "# Force reload modules to pick up changes\n",
    "import sys\n",
    "import importlib\n",
    "\n",
    "# Reload the modules that changed\n",
    "if 'repoai.llm.pydantic_ai_adapter' in sys.modules:\n",
    "    importlib.reload(sys.modules['repoai.llm.pydantic_ai_adapter'])\n",
    "if 'repoai.agents.intake_agent' in sys.modules:\n",
    "    importlib.reload(sys.modules['repoai.agents.intake_agent'])\n",
    "if 'repoai.config.settings' in sys.modules:\n",
    "    importlib.reload(sys.modules['repoai.config.settings'])\n",
    "\n",
    "print(\"✓ Modules reloaded\")"
   ]
  },
  {
   "cell_type": "code",
   "execution_count": 2,
   "id": "47c806bd",
   "metadata": {},
   "outputs": [
    {
     "name": "stdout",
     "output_type": "stream",
     "text": [
      "✓ Environment configured\n"
     ]
    }
   ],
   "source": [
    "import os\n",
    "import sys\n",
    "\n",
    "# Add src to path\n",
    "sys.path.append(os.path.abspath(\"../src\"))\n",
    "\n",
    "# Load environment variables\n",
    "from dotenv import load_dotenv\n",
    "load_dotenv('/home/timmy/RepoAI_AI/.env', override=True)\n",
    "\n",
    "# Enable autoreload\n",
    "%load_ext autoreload\n",
    "%autoreload 2\n",
    "\n",
    "print(\"✓ Environment configured\")"
   ]
  },
  {
   "cell_type": "code",
   "execution_count": 3,
   "id": "49563408",
   "metadata": {},
   "outputs": [],
   "source": [
    "from repoai.agents.prompts import INTAKE_INSTRUCTIONS, INTAKE_JAVA_EXAMPLES, INTAKE_SYSTEM_PROMPT"
   ]
  },
  {
   "cell_type": "code",
   "execution_count": 4,
   "id": "dd214611",
   "metadata": {},
   "outputs": [
    {
     "name": "stdout",
     "output_type": "stream",
     "text": [
      "**How to Parse User Requests:**\n",
      "\n",
      "1. **Identify Keywords**: Look for action words (add, migrate, refactor, optimize, modernize)\n",
      "2. **Technology Detection**: Recognize frameworks (Spring, Hibernate, JPA), patterns (JWT, OAuth, MVC)\n",
      "3. **Scope Indicators**: \n",
      "   - File patterns: \"auth module\", \"user service\", \"all controllers\"\n",
      "   - Package names: \"com.example.auth\", \"authentication package\"\n",
      "   - Specific classes: \"UserService\", \"AuthController\"\n",
      "4. **Constraint Keywords**: \"backward compatible\", \"no breaking changes\", \"maintain API\", \"gradual migration\"\n",
      "\n",
      "**Java Build System Detection:**\n",
      "- Look for mentions of Maven (pom.xml) or Gradle (build.gradle)\n",
      "- Default to Maven if not specified (most common in enterprise Java)\n",
      "\n",
      "**Examples of Intent Extraction:**\n",
      "- \"Add JWT authentication\" → intent: \"add_jwt_authentication\"\n",
      "- \"Migrate to Spring Boot 3\" → intent: \"migrate_spring_boot_3\"\n",
      "- \"Refactor user service to use DTOs\" → intent: \"refactor_user_service_add_dtos\"\n",
      "- \"Optimize database queries in order module\" → intent: \"optimize_database_queries_order_module\"\n",
      "\n",
      "**Scope Patterns for Java:**\n",
      "- Specific packages: [\"src/main/java/com/example/auth/**/*.java\"]\n",
      "- All services: [\"src/main/java/**/service/*.java\"]\n",
      "- Controllers only: [\"src/main/java/**/controller/*Controller.java\"]\n",
      "- Entire module: [\"src/main/java/com/example/modulename/**/*.java\"]\n",
      "- Include test files: [\"src/test/java/com/example/auth/**/*Test.java\"]\n",
      "\n",
      "**Common Exclusions:**\n",
      "- Generated code: \"**/generated/**\", \"**/target/**\"\n",
      "- Build artifacts: \"**/build/**\", \"**/out/**\"\n",
      "- Third-party code: \"**/lib/**\", \"**/vendor/**\"\n",
      "- Sometimes tests: \"**/*Test.java\" (unless specifically mentioned)\n"
     ]
    }
   ],
   "source": [
    "instructions = INTAKE_INSTRUCTIONS\n",
    "print(instructions)"
   ]
  },
  {
   "cell_type": "code",
   "execution_count": 5,
   "id": "cb21b13d",
   "metadata": {},
   "outputs": [
    {
     "name": "stdout",
     "output_type": "stream",
     "text": [
      "You are an expert Java software architect and refactoring specialist.\n",
      "\n",
      "Your role is to analyze user requests for Java code refactoring and extract structured information.\n",
      "\n",
      "**Your Responsibilities:**\n",
      "1. **Understand Intent**: Identify what the user wants to accomplish (e.g., add JWT authentication, migrate to Spring Boot 3, optimize database queries)\n",
      "2. **Determine Scope**: Identify which Java packages, classes, and files need to be refactored\n",
      "3. **Extract Requirements**: List specific technical requirements to fulfill\n",
      "4. **Identify Constraints**: Note any limitations or requirements (backward compatibility, no breaking changes, etc.)\n",
      "5. **Consider Java Ecosystem**: Understand Maven/Gradle dependencies, Spring Framework conventions, Jakarta EE standards\n",
      "\n",
      "**Java-Specific Considerations:**\n",
      "- Package naming conventions (e.g., com.example.auth, com.example.service)\n",
      "- Spring Framework annotations (@Service, @RestController, @Autowired, etc.)\n",
      "- Maven/Gradle build systems and dependency management\n",
      "- JUnit testing requirements\n",
      "- Java coding standards and best practices\n",
      "\n",
      "**Output Format:**\n",
      "You will produce a JobSpec with:\n",
      "- `job_id`: Unique identifier (generate based on timestamp)\n",
      "- `intent`: Clear, concise intent (e.g., \"add_jwt_authentication\", \"migrate_spring_boot_3\")\n",
      "- `scope`: Detailed scope including target files, packages, and language\n",
      "- `requirements`: List of specific technical requirements\n",
      "- `constraints`: List of constraints to respect\n",
      "\n",
      "Be thorough but concise. Focus on actionable, specific information.\n"
     ]
    }
   ],
   "source": [
    "system_prompt = INTAKE_SYSTEM_PROMPT\n",
    "print(system_prompt)"
   ]
  },
  {
   "cell_type": "code",
   "execution_count": 6,
   "id": "7131fb91",
   "metadata": {},
   "outputs": [
    {
     "name": "stdout",
     "output_type": "stream",
     "text": [
      "**Example 1: Add JWT Authentication**\n",
      "\n",
      "User Request: \"Add JWT authentication to the user service. Use Spring Security and maintain backward compatibility with existing session-based auth.\"\n",
      "\n",
      "Expected JobSpec:\n",
      "```json\n",
      "{\n",
      "  \"job_id\": \"job_20250125_143022\",\n",
      "  \"intent\": \"add_jwt_authentication\",\n",
      "  \"scope\": {\n",
      "    \"target_files\": [\"src/main/java/com/example/auth/**/*.java\", \"src/main/java/com/example/security/**/*.java\"],\n",
      "    \"target_packages\": [\"com.example.auth\", \"com.example.security\"],\n",
      "    \"language\": \"java\",\n",
      "    \"build_system\": \"maven\",\n",
      "    \"exclude_patterns\": [\"**/*Test.java\", \"**/target/**\"]\n",
      "  },\n",
      "  \"requirements\": [\n",
      "    \"Implement JWT token generation using jjwt library\",\n",
      "    \"Create JwtService class with token generation and validation methods\",\n",
      "    \"Add JWT authentication filter extending OncePerRequestFilter\",\n",
      "    \"Configure Spring Security to support JWT authentication\",\n",
      "    \"Add refresh token mechanism\",\n",
      "    \"Update SecurityConfig to enable JWT auth alongside session auth\"\n",
      "  ],\n",
      "  \"constraints\": [\n",
      "    \"Maintain backward compatibility with existing session-based authentication\",\n",
      "    \"No breaking changes to existing user API endpoints\",\n",
      "    \"Existing integration tests must continue to pass\",\n",
      "    \"Add required Maven dependencies (spring-boot-starter-security, jjwt)\"\n",
      "  ]\n",
      "}\n",
      "```\n",
      "\n",
      "**Example 2: Migrate Spring Boot 2 to 3**\n",
      "\n",
      "User Request: \"Migrate our Spring Boot application from version 2.7 to 3.2. Focus on the user and order modules.\"\n",
      "\n",
      "Expected JobSpec:\n",
      "```json\n",
      "{\n",
      "  \"job_id\": \"job_20250125_143045\",\n",
      "  \"intent\": \"migrate_spring_boot_3\",\n",
      "  \"scope\": {\n",
      "    \"target_files\": [\n",
      "      \"src/main/java/com/example/user/**/*.java\",\n",
      "      \"src/main/java/com/example/order/**/*.java\",\n",
      "      \"pom.xml\"\n",
      "    ],\n",
      "    \"target_packages\": [\"com.example.user\", \"com.example.order\"],\n",
      "    \"language\": \"java\",\n",
      "    \"build_system\": \"maven\",\n",
      "    \"exclude_patterns\": [\"**/target/**\", \"**/generated/**\"]\n",
      "  },\n",
      "  \"requirements\": [\n",
      "    \"Update Spring Boot version to 3.2.x in pom.xml\",\n",
      "    \"Migrate javax.* imports to jakarta.* (Jakarta EE 9+)\",\n",
      "    \"Update deprecated Spring Security configurations\",\n",
      "    \"Replace removed APIs with Spring Boot 3 equivalents\",\n",
      "    \"Update JUnit tests to JUnit 5 if not already done\",\n",
      "    \"Update application.properties for Spring Boot 3 property changes\"\n",
      "  ],\n",
      "  \"constraints\": [\n",
      "    \"Ensure all tests pass after migration\",\n",
      "    \"Maintain API contract - no endpoint URL changes\",\n",
      "    \"Database schema must remain compatible\",\n",
      "    \"Gradual deployment strategy - feature flag support\"\n",
      "  ]\n",
      "}\n",
      "```\n",
      "\n",
      "**Example 3: Refactor Repository Layer to Use Spring Data JPA**\n",
      "\n",
      "User Request: \"Refactor our repository layer to use Spring Data JPA instead of plain JDBC. Start with the product repository.\"\n",
      "\n",
      "Expected JobSpec:\n",
      "```json\n",
      "{\n",
      "  \"job_id\": \"job_20250125_143100\",\n",
      "  \"intent\": \"refactor_to_spring_data_jpa\",\n",
      "  \"scope\": {\n",
      "    \"target_files\": [\n",
      "      \"src/main/java/com/example/repository/ProductRepository.java\",\n",
      "      \"src/main/java/com/example/repository/impl/ProductRepositoryImpl.java\",\n",
      "      \"src/main/java/com/example/entity/Product.java\"\n",
      "    ],\n",
      "    \"target_packages\": [\"com.example.repository\", \"com.example.entity\"],\n",
      "    \"language\": \"java\",\n",
      "    \"build_system\": \"gradle\",\n",
      "    \"exclude_patterns\": [\"**/*Test.java\", \"**/build/**\"]\n",
      "  },\n",
      "  \"requirements\": [\n",
      "    \"Convert ProductRepositoryImpl to Spring Data JPA repository interface\",\n",
      "    \"Add @Entity and JPA annotations to Product class\",\n",
      "    \"Define JPA repository interface extending JpaRepository\",\n",
      "    \"Add custom query methods using @Query where needed\",\n",
      "    \"Configure JPA properties in application.yml\",\n",
      "    \"Add spring-boot-starter-data-jpa dependency\"\n",
      "  ],\n",
      "  \"constraints\": [\n",
      "    \"Maintain same method signatures for repository interface\",\n",
      "    \"No changes to service layer - repository abstraction must remain\",\n",
      "    \"Database schema should not change\",\n",
      "    \"All existing repository tests must pass with minimal changes\"\n",
      "  ]\n",
      "}\n",
      "```\n"
     ]
    }
   ],
   "source": [
    "java_examples = INTAKE_JAVA_EXAMPLES\n",
    "print(java_examples)"
   ]
  },
  {
   "cell_type": "markdown",
   "id": "2b12ac06",
   "metadata": {},
   "source": [
    "---\n",
    "\n",
    "## 🎉 Clean Test: Gemini-Only System\n",
    "\n",
    "The system has been fully updated to use Gemini exclusively. AIMLAPI support has been removed.\n",
    "\n",
    "**Restart the kernel and run the cells below.**"
   ]
  },
  {
   "cell_type": "code",
   "execution_count": 7,
   "id": "c492726e",
   "metadata": {},
   "outputs": [
    {
     "name": "stdout",
     "output_type": "stream",
     "text": [
      "✓ Environment setup complete\n"
     ]
    }
   ],
   "source": [
    "# 1. Setup environment\n",
    "import os\n",
    "import sys\n",
    "sys.path.append(os.path.abspath(\"../src\"))\n",
    "\n",
    "from dotenv import load_dotenv\n",
    "load_dotenv('/home/timmy/RepoAI_AI/.env', override=True)\n",
    "\n",
    "print(\"✓ Environment setup complete\")"
   ]
  },
  {
   "cell_type": "code",
   "execution_count": 8,
   "id": "9d74e345",
   "metadata": {},
   "outputs": [
    {
     "name": "stdout",
     "output_type": "stream",
     "text": [
      "✓ Reloaded repoai.models.job_spec\n",
      "✓ Reloaded repoai.models.refactor_plan\n",
      "✓ Reloaded repoai.models.code_changes\n",
      "✓ Reloaded repoai.models.PR_description\n",
      "✓ Reloaded repoai.models\n",
      "✓ Reloaded repoai.config.settings\n",
      "✓ Reloaded repoai.llm.pydantic_ai_adapter\n",
      "✓ Reloaded repoai.agents.intake_agent\n",
      "\n",
      "✓ All modules reloaded with Pydantic v2 changes\n"
     ]
    }
   ],
   "source": [
    "# 1a. Force reload all model modules to pick up Pydantic v2 changes\n",
    "import sys\n",
    "import importlib\n",
    "\n",
    "# List of all modules that need reloading\n",
    "modules_to_reload = [\n",
    "    'repoai.models.job_spec',\n",
    "    'repoai.models.refactor_plan',\n",
    "    'repoai.models.validation_result',\n",
    "    'repoai.models.code_changes',\n",
    "    'repoai.models.PR_description',\n",
    "    'repoai.models',\n",
    "    'repoai.config.settings',\n",
    "    'repoai.llm.pydantic_ai_adapter',\n",
    "    'repoai.agents.intake_agent',\n",
    "]\n",
    "\n",
    "for module_name in modules_to_reload:\n",
    "    if module_name in sys.modules:\n",
    "        importlib.reload(sys.modules[module_name])\n",
    "        print(f\"✓ Reloaded {module_name}\")\n",
    "\n",
    "print(\"\\n✓ All modules reloaded with Pydantic v2 changes\")"
   ]
  },
  {
   "cell_type": "code",
   "execution_count": 9,
   "id": "4d6cd57f",
   "metadata": {},
   "outputs": [
    {
     "name": "stdout",
     "output_type": "stream",
     "text": [
      "✓ Google API Key: SET\n",
      "✓ INTAKE models: ['gemini-2.0-flash-thinking-exp-01-21', 'gemini-2.0-flash-exp', 'gemini-1.5-flash-002']\n",
      "✓ Model type: GoogleModel\n",
      "✓ Model: GoogleModel()\n"
     ]
    }
   ],
   "source": [
    "# 2. Import and verify Gemini setup\n",
    "from repoai.llm import PydanticAIAdapter, ModelRole\n",
    "from repoai.config.settings import get_settings\n",
    "from repoai.agents.intake_agent import run_intake_agent\n",
    "from repoai.dependencies import IntakeDependencies\n",
    "\n",
    "# Verify settings\n",
    "settings = get_settings()\n",
    "print(f\"✓ Google API Key: {'SET' if settings.GOOGLE_API_KEY else 'NOT SET'}\")\n",
    "\n",
    "# Create adapter\n",
    "adapter = PydanticAIAdapter()\n",
    "\n",
    "# Check models configured\n",
    "model_ids = adapter.get_model_ids_with_fallback(ModelRole.INTAKE)\n",
    "print(f\"✓ INTAKE models: {model_ids}\")\n",
    "\n",
    "# Verify model type\n",
    "model = adapter.get_model(ModelRole.INTAKE)\n",
    "print(f\"✓ Model type: {type(model).__name__}\")\n",
    "print(f\"✓ Model: {model}\")"
   ]
  },
  {
   "cell_type": "code",
   "execution_count": 10,
   "id": "f1041ca9",
   "metadata": {},
   "outputs": [
    {
     "name": "stdout",
     "output_type": "stream",
     "text": [
      "✓ Dependencies created: IntakeDependencies(user_id='timmy_123', session_id='session_456', repository_url='https://github.com/Khant-Wai-Lin/repo-ai-backend', max_retries=3, timeout_seconds=60)\n"
     ]
    }
   ],
   "source": [
    "# 3. Create dependencies\n",
    "deps = IntakeDependencies(\n",
    "    user_id=\"timmy_123\",\n",
    "    session_id=\"session_456\",\n",
    "    repository_url=\"https://github.com/Khant-Wai-Lin/repo-ai-backend\",\n",
    ")\n",
    "print(f\"✓ Dependencies created: {deps}\")"
   ]
  },
  {
   "cell_type": "code",
   "execution_count": 18,
   "id": "f14e3b87",
   "metadata": {},
   "outputs": [
    {
     "name": "stdout",
     "output_type": "stream",
     "text": [
      "🚀 Running Intake Agent with Gemini...\n",
      "============================================================\n",
      "\n",
      "🎉 SUCCESS with Gemini + Tools!\n",
      "\n",
      "============================================================\n",
      "📋 Job ID: job_20251026_001210_e3277b0a\n",
      "🎯 Intent: add_jwt_authentication\n",
      "☕ Language: java\n",
      "🔨 Build System: maven\n",
      "\n",
      "📦 Target Packages (3):\n",
      "  • com.example.user\n",
      "  • com.example.auth\n",
      "  • com.example.security\n",
      "\n",
      "📁 Target Files (3):\n",
      "  • src/main/java/**/user/**/*.java\n",
      "  • src/main/java/**/auth/**/*.java\n",
      "  • src/main/java/**/security/**/*.java\n",
      "\n",
      "✅ Requirements (8):\n",
      "  1. Implement JWT token generation (e.g., using jjwt library)\n",
      "  2. Implement JWT token validation\n",
      "  3. Create a JwtService class for JWT operations\n",
      "  4. Develop a custom JWT authentication filter for Spring Security\n",
      "  5. Configure Spring Security to integrate the JWT filter\n",
      "  ... and 3 more\n",
      "\n",
      "⚠️  Constraints:\n",
      "  • Ensure existing user service functionality remains intact\n",
      "  • No breaking changes to existing user service API contracts\n",
      "  • All existing unit and integration tests must continue to pass\n",
      "  • Add required Maven dependencies to pom.xml\n",
      "\n",
      "📊 Metadata:\n",
      "  Model: gemini-2.0-flash-thinking-exp-01-21\n",
      "  Duration: 12080ms\n",
      "\n",
      "============================================================\n",
      "✨ Intake Agent working perfectly with Gemini!\n",
      "\n",
      "🎉 SUCCESS with Gemini + Tools!\n",
      "\n",
      "============================================================\n",
      "📋 Job ID: job_20251026_001210_e3277b0a\n",
      "🎯 Intent: add_jwt_authentication\n",
      "☕ Language: java\n",
      "🔨 Build System: maven\n",
      "\n",
      "📦 Target Packages (3):\n",
      "  • com.example.user\n",
      "  • com.example.auth\n",
      "  • com.example.security\n",
      "\n",
      "📁 Target Files (3):\n",
      "  • src/main/java/**/user/**/*.java\n",
      "  • src/main/java/**/auth/**/*.java\n",
      "  • src/main/java/**/security/**/*.java\n",
      "\n",
      "✅ Requirements (8):\n",
      "  1. Implement JWT token generation (e.g., using jjwt library)\n",
      "  2. Implement JWT token validation\n",
      "  3. Create a JwtService class for JWT operations\n",
      "  4. Develop a custom JWT authentication filter for Spring Security\n",
      "  5. Configure Spring Security to integrate the JWT filter\n",
      "  ... and 3 more\n",
      "\n",
      "⚠️  Constraints:\n",
      "  • Ensure existing user service functionality remains intact\n",
      "  • No breaking changes to existing user service API contracts\n",
      "  • All existing unit and integration tests must continue to pass\n",
      "  • Add required Maven dependencies to pom.xml\n",
      "\n",
      "📊 Metadata:\n",
      "  Model: gemini-2.0-flash-thinking-exp-01-21\n",
      "  Duration: 12080ms\n",
      "\n",
      "============================================================\n",
      "✨ Intake Agent working perfectly with Gemini!\n"
     ]
    }
   ],
   "source": [
    "# 4. Test Intake Agent with Gemini + ALL Tools\n",
    "print(\"🚀 Running Intake Agent with Gemini...\")\n",
    "print(\"=\" * 60)\n",
    "\n",
    "try:\n",
    "    job_spec, meta = await run_intake_agent(\n",
    "        \"Add JWT authentication to the user service and protect /api/*\",\n",
    "        deps,\n",
    "        adapter=adapter,\n",
    "    )\n",
    "    \n",
    "    print(\"\\n🎉 SUCCESS with Gemini + Tools!\\n\")\n",
    "    print(\"=\" * 60)\n",
    "    print(f\"📋 Job ID: {job_spec.job_id}\")\n",
    "    print(f\"🎯 Intent: {job_spec.intent}\")\n",
    "    print(f\"☕ Language: {job_spec.scope.language}\")\n",
    "    print(f\"🔨 Build System: {job_spec.scope.build_system}\")\n",
    "    \n",
    "    print(f\"\\n📦 Target Packages ({len(job_spec.scope.target_packages)}):\")\n",
    "    for pkg in job_spec.scope.target_packages:\n",
    "        print(f\"  • {pkg}\")\n",
    "    \n",
    "    print(f\"\\n📁 Target Files ({len(job_spec.scope.target_files)}):\")\n",
    "    for pattern in job_spec.scope.target_files[:3]:\n",
    "        print(f\"  • {pattern}\")\n",
    "    if len(job_spec.scope.target_files) > 3:\n",
    "        print(f\"  ... and {len(job_spec.scope.target_files) - 3} more\")\n",
    "    \n",
    "    print(f\"\\n✅ Requirements ({len(job_spec.requirements)}):\")\n",
    "    for i, req in enumerate(job_spec.requirements[:5], 1):\n",
    "        print(f\"  {i}. {req}\")\n",
    "    if len(job_spec.requirements) > 5:\n",
    "        print(f\"  ... and {len(job_spec.requirements) - 5} more\")\n",
    "    \n",
    "    if job_spec.constraints:\n",
    "        print(f\"\\n⚠️  Constraints:\")\n",
    "        for constraint in job_spec.constraints:\n",
    "            print(f\"  • {constraint}\")\n",
    "    \n",
    "    print(f\"\\n📊 Metadata:\")\n",
    "    print(f\"  Model: {meta.model_used}\")\n",
    "    print(f\"  Duration: {meta.execution_time_ms:.0f}ms\")\n",
    "    \n",
    "    print(\"\\n\" + \"=\" * 60)\n",
    "    print(\"✨ Intake Agent working perfectly with Gemini!\")\n",
    "    \n",
    "except Exception as e:\n",
    "    print(f\"\\n❌ Error: {type(e).__name__}\")\n",
    "    print(f\"Message: {str(e)}\")\n",
    "    import traceback\n",
    "    traceback.print_exc()"
   ]
  },
  {
   "cell_type": "code",
   "execution_count": 19,
   "id": "39e93af7",
   "metadata": {},
   "outputs": [
    {
     "name": "stdout",
     "output_type": "stream",
     "text": [
      "🎉 SUCCESS with Gemini + Tools!\n",
      "\n",
      "Job ID: job_20251026_001308_40e64375\n",
      "Intent: add_jwt_authentication\n",
      "Language: java\n",
      "Build System: maven\n",
      "\n",
      "Target Packages: ['com.example.user', 'com.example.auth', 'com.example.security']\n",
      "Target Files: ['src/main/java/com/example/user/**/*.java', 'src/main/java/com/example/auth/**/*.java']...\n",
      "\n",
      "Requirements (7 total):\n",
      "  1. Implement JWT token generation using a library like jjwt\n",
      "  2. Create a JwtService for handling token creation, parsing, and validation\n",
      "  3. Develop a custom JwtAuthenticationFilter to intercept requests and validate JWTs\n",
      "\n",
      "Constraints: ['Maintain backward compatibility with any existing authentication mechanisms (if applicable)', 'No breaking changes to existing user service API endpoints', 'Ensure all existing unit and integration tests continue to pass after refactoring', 'The solution should be compatible with the current Spring Boot version in use']\n",
      "\n",
      "Model Used: gemini-2.0-flash-thinking-exp-01-21\n",
      "Duration: 15638ms\n"
     ]
    }
   ],
   "source": [
    "# Test the full intake agent with Gemini and all tools\n",
    "try:\n",
    "    job_spec, meta = await run_intake_agent(\n",
    "        \"Add JWT authentication to the user service and protect /api/*\",\n",
    "        deps,\n",
    "        adapter=adapter,\n",
    "    )\n",
    "    print(\"🎉 SUCCESS with Gemini + Tools!\\n\")\n",
    "    print(f\"Job ID: {job_spec.job_id}\")\n",
    "    print(f\"Intent: {job_spec.intent}\")\n",
    "    print(f\"Language: {job_spec.scope.language}\")\n",
    "    print(f\"Build System: {job_spec.scope.build_system}\")\n",
    "    print(f\"\\nTarget Packages: {job_spec.scope.target_packages}\")\n",
    "    print(f\"Target Files: {job_spec.scope.target_files[:2]}...\")  # First 2 patterns\n",
    "    print(f\"\\nRequirements ({len(job_spec.requirements)} total):\")\n",
    "    for i, req in enumerate(job_spec.requirements[:3], 1):\n",
    "        print(f\"  {i}. {req}\")\n",
    "    print(f\"\\nConstraints: {job_spec.constraints}\")\n",
    "    print(f\"\\nModel Used: {meta.model_used}\")\n",
    "    print(f\"Duration: {meta.execution_time_ms:.0f}ms\")\n",
    "except Exception as e:\n",
    "    print(f\"❌ Error: {type(e).__name__}\")\n",
    "    print(f\"Message: {str(e)}\")\n",
    "    import traceback\n",
    "    traceback.print_exc()"
   ]
  }
 ],
 "metadata": {
  "kernelspec": {
   "display_name": "RepoAI_AI (3.12.3)",
   "language": "python",
   "name": "python3"
  },
  "language_info": {
   "codemirror_mode": {
    "name": "ipython",
    "version": 3
   },
   "file_extension": ".py",
   "mimetype": "text/x-python",
   "name": "python",
   "nbconvert_exporter": "python",
   "pygments_lexer": "ipython3",
   "version": "3.12.3"
  }
 },
 "nbformat": 4,
 "nbformat_minor": 5
}
